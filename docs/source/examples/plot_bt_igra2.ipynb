{
  "cells": [
    {
      "cell_type": "code",
      "execution_count": null,
      "metadata": {
        "collapsed": false
      },
      "outputs": [],
      "source": [
        "%matplotlib inline"
      ]
    },
    {
      "cell_type": "markdown",
      "metadata": {},
      "source": [
        "\n# Performing BT calculation from satellite using IGRA2 Upper Air Observations\n"
      ]
    },
    {
      "cell_type": "markdown",
      "metadata": {},
      "source": [
        "This example shows how to use the\n:py:class:`pyrtlib.main.BTCloudRTE` method to calculate brightness temperature from satellite using\nobservations from IGRA2 Upper Air Archive.\n\n"
      ]
    },
    {
      "cell_type": "code",
      "execution_count": null,
      "metadata": {
        "collapsed": false
      },
      "outputs": [],
      "source": [
        "import matplotlib.pyplot as plt\n\nplt.rcParams.update({'font.size': 15})\nimport numpy as np\nfrom datetime import datetime\n\nfrom pyrtlib.main import BTCloudRTE\nfrom pyrtlib.utils import dewpoint2rh, import_lineshape, to_kelvin\nfrom pyrtlib.absorption_model import H2OAbsModel\nfrom pyrtlib.apiwebservices import IGRAUpperAir\n\ndate = datetime(2020, 6, 1, 12)\nstation = 'SPM00008221'\ndf_igra2, header = IGRAUpperAir.request_data(date, station)\n\ndf_igra2 = df_igra2[df_igra2.pressure.notna() & \n                    df_igra2.temperature.notna() & \n                    df_igra2.dewpoint.notna() & \n                    df_igra2.height.notna()]\n\nz, p, t = df_igra2.height.values / 1000, df_igra2.pressure.values, to_kelvin(df_igra2.temperature.values)\n\nrh = dewpoint2rh(df_igra2.dewpoint, df_igra2.temperature).values\n\nmdl = 'rose21sd'\nang = np.array([90.])\nfrq = np.arange(20, 201, 1)\nnf = len(frq)\n\nrte = BTCloudRTE(z, p, t, rh, frq, ang)\nrte.init_absmdl('rose20')\nrte.emissivity = 0.6\nH2OAbsModel.model = 'rose21sd'\nH2OAbsModel.h2oll = import_lineshape('h2oll_{}'.format(H2OAbsModel.model))\ndf = rte.execute()\ndf = df.set_index(frq)\n\nfig, ax = plt.subplots(1, 1, figsize=(12, 8))\nplt.suptitle(\"{}, {}, {} - {}\".format(header.site_id.values[0], header.latitude.values[0], header.longitude.values[0], header.date.values[0]), y=0.96)\nplt.title(\"IGRA2 UpperAir Radiosonde Archive\", fontsize=10, ha='center')\nax.set_xlabel('Frequency [GHz]')\nax.set_ylabel('${T_B}$ [K]')\ndf.tbtotal.plot(ax=ax, linewidth=2, label='{} - {}'.format(header.site_id.values[0], mdl))\nax.legend()\nplt.show()"
      ]
    }
  ],
  "metadata": {
    "kernelspec": {
      "display_name": "Python 3",
      "language": "python",
      "name": "python3"
    },
    "language_info": {
      "codemirror_mode": {
        "name": "ipython",
        "version": 3
      },
      "file_extension": ".py",
      "mimetype": "text/x-python",
      "name": "python",
      "nbconvert_exporter": "python",
      "pygments_lexer": "ipython3",
      "version": "3.10.10"
    }
  },
  "nbformat": 4,
  "nbformat_minor": 0
}
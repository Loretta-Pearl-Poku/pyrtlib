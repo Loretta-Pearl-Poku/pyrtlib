{
  "cells": [
    {
      "cell_type": "code",
      "execution_count": null,
      "metadata": {
        "collapsed": false
      },
      "outputs": [],
      "source": [
        "%matplotlib inline"
      ]
    },
    {
      "cell_type": "markdown",
      "metadata": {},
      "source": [
        "\n# Performing Brightness Temperature calculation from ground with Ozone\n"
      ]
    },
    {
      "cell_type": "markdown",
      "metadata": {},
      "source": [
        "This example shows how to use the\n:py:class:`pyrtlib.tb_spectrum.TbCloudRTE` method to calculate brightness temperature from ground with ozone.\n\n"
      ]
    },
    {
      "cell_type": "code",
      "execution_count": null,
      "metadata": {
        "collapsed": false
      },
      "outputs": [],
      "source": [
        "import matplotlib.pyplot as plt\n\nplt.rcParams.update({'font.size': 15})\nimport numpy as np\n\nfrom pyrtlib.atmospheric_profiles import AtmosphericProfiles as atmp\nfrom pyrtlib.tb_spectrum import TbCloudRTE\nfrom pyrtlib.absorption_model import H2OAbsModel, O3AbsModel\nfrom pyrtlib.utils import ppmv2gkg, mr2rh, ppmv_to_moleculesm3, import_lineshape, constants\n\natm = ['Tropical',\n       'Midlatitude Summer',\n       'Midlatitude Winter',\n       'Subarctic Summer',\n       'Subarctic Winter',\n       'U.S. Standard']\n\nfig, ax = plt.subplots(1, 1, figsize=(12, 8))\nax.set_xlabel('Frequency [GHz]')\nax.set_ylabel('${T_B}$ [K]')\n\nz, p, d, t, md = atmp.gl_atm(atmp.US_STANDARD) # 'U.S. Standard'\n\no3n_ppmv = md[:, atmp.O3]\no3n = np.zeros(z.shape)\nfor k in range(0, len(z)):\n    o3n[k] = ppmv_to_moleculesm3(o3n_ppmv[k], p[k] * 100.0, t[k])\n# o3n = np.interp(z,o3n,z)\n# o3n_matlab = np.loadtxt(\"/Users/slarosa/Downloads/o3.csv\", delimiter=',')\n# assert_allclose(o3n, o3n_matlab, atol=0)\n\ngkg = ppmv2gkg(md[:, atmp.H2O], atmp.H2O)\nrh = mr2rh(p, t, gkg)[0] / 100\n\nang = np.array([90.])\nfrq = np.arange(20, 201, 1)\n\nrte = TbCloudRTE(z, p, t, rh, frq, ang, o3n)\nrte.init_absmdl('rose20')\nrte.satellite = False\nH2OAbsModel.model = 'rose21sd'\nH2OAbsModel.h2oll = import_lineshape('h2oll_{}'.format(H2OAbsModel.model))\nO3AbsModel.model = 'rose18'\nO3AbsModel.o3ll = import_lineshape('o3ll_{}'.format(O3AbsModel.model))\ndf = rte.execute()\n\ndf = df.set_index(frq)\ndf.tbtotal.plot(ax=ax, linewidth=1, label='{} - {}'.format(atm[atmp.US_STANDARD], 'rose21sd'))\n\nstyle = dict(size=20, color='gray', ha='center')\nax.text(22, 45, \"${H_2O}$\", **style)\nax.text(60, 255, \"${O_2}}$\", **style)\nax.text(119, 280, \"${O_2}}$\", **style)\nax.text(142, 100, \"${O_3}}$\", **style)\nax.text(183, 245, \"${H_2O}$\", **style)\n\ndef ghz_to_mm(ghz):\n    f = ghz * 1e9\n    c = constants('light')[0]\n    return (c/f) * 1e3\n\ndef mm_to_ghz(mm):\n    l = mm / 1e3\n    c = constants('light')[0]\n    return (c/l) / 1e9\n\nsecax = ax.secondary_xaxis('top', functions=(ghz_to_mm, mm_to_ghz))\nsecax.set_xlabel('$\\lambda$ [mm]')\n\nax.legend()\nplt.show()"
      ]
    },
    {
      "cell_type": "markdown",
      "metadata": {},
      "source": [
        "Compute rose21sd model without Ozone and plotting difference\n\n"
      ]
    },
    {
      "cell_type": "code",
      "execution_count": null,
      "metadata": {
        "collapsed": false
      },
      "outputs": [],
      "source": [
        "O3AbsModel.model = ''\ndf_no_o3 = rte.execute()\ndf_no_o3 = df_no_o3.set_index(frq)\ndf['delta'] = df.tbtotal - df_no_o3.tbtotal\n\nfig, ax = plt.subplots(1, 1, figsize=(12,8))\nax.set_xlabel('Frequency [GHz]')\nax.set_ylabel('$\\Delta {T_B}$ [K]')\ndf.delta.plot(ax=ax, figsize=(12,8), label='$\\Delta {T_B}$ (rose21sd-rose21sd_w03)')\nax.legend()\nplt.show()"
      ]
    }
  ],
  "metadata": {
    "kernelspec": {
      "display_name": "Python 3",
      "language": "python",
      "name": "python3"
    },
    "language_info": {
      "codemirror_mode": {
        "name": "ipython",
        "version": 3
      },
      "file_extension": ".py",
      "mimetype": "text/x-python",
      "name": "python",
      "nbconvert_exporter": "python",
      "pygments_lexer": "ipython3",
      "version": "3.10.10"
    }
  },
  "nbformat": 4,
  "nbformat_minor": 0
}
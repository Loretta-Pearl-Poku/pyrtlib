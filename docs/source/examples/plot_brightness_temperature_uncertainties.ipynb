{
  "cells": [
    {
      "cell_type": "code",
      "execution_count": null,
      "metadata": {
        "collapsed": false
      },
      "outputs": [],
      "source": [
        "%matplotlib inline"
      ]
    },
    {
      "cell_type": "markdown",
      "metadata": {},
      "source": [
        "\n# Performing uncertainty on Brightness Temperature \n"
      ]
    },
    {
      "cell_type": "markdown",
      "metadata": {},
      "source": [
        "This example shows how to use the\n:py:class:`pyrtlib.main.BTCloudRTE` method to calculate uncertainty on brightness temperature\nwith gamma_a as perturbation sptectroscopic parameter\n\n"
      ]
    },
    {
      "cell_type": "code",
      "execution_count": null,
      "metadata": {
        "collapsed": false
      },
      "outputs": [],
      "source": [
        "import matplotlib.pyplot as plt\n\nplt.rcParams.update({'font.size': 15})\nimport numpy as np\n\nfrom pyrtlib.atmp import AtmosphericProfiles as atmp\nfrom pyrtlib.main import BTCloudRTE\nfrom pyrtlib.absmodel import H2OAbsModel, O3AbsModel\nfrom pyrtlib.absmod_uncertainty import absmod_uncertainties_perturb\nfrom pyrtlib.utils import ppmv2gkg, mr2rh\n\natm = ['Tropical',\n       'Midlatitude Summer',\n       'Midlatitude Winter',\n       'Subarctic Summer',\n       'Subarctic Winter',\n       'U.S. Standard']\n\nfig, ax = plt.subplots(1, 1, figsize=(12, 8))\nax.set_xlabel('Frequency [GHz]')\nax.set_ylabel('$\\Delta {T_B}$ [K]')\n\nfor i in range(0, 6):\n\n    z, p, d, t, md = atmp.gl_atm(i) # 'U.S. Standard'\n\n    gkg = ppmv2gkg(md[:, atmp.H2O], atmp.H2O)\n    rh = mr2rh(p, t, gkg)[0] / 100\n\n    ang = np.array([90.])\n    frq = np.arange(20, 151, 1)\n\n    amu = absmod_uncertainties_perturb()\n\n    rte = BTCloudRTE(z, p, t, rh, frq, ang, amu=amu)\n    rte.init_absmdl('uncertainty')\n    df = rte.execute()\n    df = df.set_index(frq)\n\n    amu = absmod_uncertainties_perturb(['gamma_a'], 'max', index=1)\n\n    rte = BTCloudRTE(z, p, t, rh, frq, ang, amu=amu)\n    rte.init_absmdl('uncertainty')\n    df_gamma = rte.execute()\n    df_gamma = df_gamma.set_index(frq)\n\n    df['delta_max_gamma_a'] = df_gamma.tbtotal - df.tbtotal\n\n    amu = absmod_uncertainties_perturb(['gamma_a'], 'min', index=1)\n\n    rte = BTCloudRTE(z, p, t, rh, frq, ang, amu=amu)\n    rte.init_absmdl('uncertainty')\n    df_gamma = rte.execute()\n    df_gamma = df_gamma.set_index(frq)\n\n    df['delta_min_gamma_a'] = df_gamma.tbtotal - df.tbtotal\n\n    df.delta_max_gamma_a.plot(ax=ax, style='--', label='{}'.format(atm[i]))\n    df.delta_min_gamma_a.plot(ax=ax, label='{}'.format(atm[i]))\n\n# ax.legend()\nplt.title(\"Perturbed parameters: $\\gamma_a$\")\nplt.show()"
      ]
    }
  ],
  "metadata": {
    "kernelspec": {
      "display_name": "Python 3",
      "language": "python",
      "name": "python3"
    },
    "language_info": {
      "codemirror_mode": {
        "name": "ipython",
        "version": 3
      },
      "file_extension": ".py",
      "mimetype": "text/x-python",
      "name": "python",
      "nbconvert_exporter": "python",
      "pygments_lexer": "ipython3",
      "version": "3.10.10"
    }
  },
  "nbformat": 4,
  "nbformat_minor": 0
}
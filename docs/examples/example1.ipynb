{
 "metadata": {
  "language_info": {
   "codemirror_mode": {
    "name": "ipython",
    "version": 3
   },
   "file_extension": ".py",
   "mimetype": "text/x-python",
   "name": "python",
   "nbconvert_exporter": "python",
   "pygments_lexer": "ipython3",
   "version": "3.9.2"
  },
  "orig_nbformat": 2,
  "kernelspec": {
   "name": "python392jvsc74a57bd0aee8b7b246df8f9039afb4144a1f6fd8d2ca17a180786b69acc140d282b71a49",
   "display_name": "Python 3.9.2 64-bit"
  },
  "metadata": {
   "interpreter": {
    "hash": "aee8b7b246df8f9039afb4144a1f6fd8d2ca17a180786b69acc140d282b71a49"
   }
  }
 },
 "nbformat": 4,
 "nbformat_minor": 2,
 "cells": [
  {
   "cell_type": "code",
   "execution_count": 1,
   "metadata": {},
   "outputs": [
    {
     "output_type": "execute_result",
     "data": {
      "text/plain": [
       "{'divide': 'warn', 'over': 'warn', 'under': 'ignore', 'invalid': 'warn'}"
      ]
     },
     "metadata": {},
     "execution_count": 1
    }
   ],
   "source": [
    "# This requires jupyter-matplotlib a.k.a. ipympl.\n",
    "# ipympl can be install via pip or conda.\n",
    "%matplotlib inline\n",
    "import matplotlib.pyplot as plt\n",
    "import numpy as np\n",
    "np.seterr('raise')"
   ]
  },
  {
   "source": [
    "# Import pyrtlib package"
   ],
   "cell_type": "markdown",
   "metadata": {}
  },
  {
   "cell_type": "code",
   "execution_count": null,
   "metadata": {},
   "outputs": [],
   "source": [
    "from pyrtlib.atmp import AtmosphericProfiles as atmp\n",
    "from pyrtlib.main import tb_cloud_rte\n",
    "from pyrtlib.utils import ppmv2gkg, mr2rh"
   ]
  },
  {
   "cell_type": "code",
   "execution_count": null,
   "metadata": {},
   "outputs": [],
   "source": [
    "atm = ['Tropical',\n",
    "       'Midlatitude Summer',\n",
    "       'Midlatitude Winter',\n",
    "       'Subarctic Summer',\n",
    "       'Subarctic Winter',\n",
    "       'U.S. Standard']\n",
    "\n",
    "mdl = 'rose16'"
   ]
  },
  {
   "source": [
    "# Performing calculation from Satellite"
   ],
   "cell_type": "markdown",
   "metadata": {}
  },
  {
   "source": [
    "## Load standard atmosphere (low res at lower levels, only 1 level within 1 km)"
   ],
   "cell_type": "markdown",
   "metadata": {}
  },
  {
   "cell_type": "code",
   "execution_count": null,
   "metadata": {},
   "outputs": [],
   "source": [
    "z, p, d, t, md = atmp.gl_atm(atmp.TROPICAL)\n",
    "\n",
    "gkg = ppmv2gkg(md[:, atmp.H2O], atmp.H2O)\n",
    "rh = mr2rh(p, t, gkg)[0] / 100"
   ]
  },
  {
   "source": [
    "## default no cloud"
   ],
   "cell_type": "markdown",
   "metadata": {}
  },
  {
   "cell_type": "code",
   "execution_count": null,
   "metadata": {},
   "outputs": [],
   "source": [
    "ang = np.array([90.])\n",
    "frq = np.arange(20, 201, 1)\n",
    "nf = len(frq)\n",
    "\n",
    "denliq = np.zeros(z.shape)\n",
    "denice = np.zeros(z.shape)\n",
    "cldh = np.zeros((2, 0))"
   ]
  },
  {
   "source": [
    "## plotting"
   ],
   "cell_type": "markdown",
   "metadata": {}
  },
  {
   "cell_type": "code",
   "execution_count": null,
   "metadata": {},
   "outputs": [],
   "source": [
    "fig, ax = plt.subplots(1, 1, figsize=(12,8))\n",
    "ax.set_xlabel('Frequency (GHz)')\n",
    "ax.set_ylabel('BT (K)')\n",
    "\n",
    "df = tb_cloud_rte(z, p, t, rh, denliq, denice, cldh, frq, ang, absmdl=mdl, ray_tracing=True, from_sat=True)\n",
    "df = df.set_index(frq)\n",
    "df.tbtotal.plot(ax=ax, linewidth=1, label='{} - {}'.format(atm[atmp.TROPICAL], mdl))\n",
    "\n",
    "ax.legend()\n",
    "plt.show()"
   ]
  },
  {
   "cell_type": "code",
   "execution_count": null,
   "metadata": {},
   "outputs": [],
   "source": [
    "df"
   ]
  },
  {
   "cell_type": "code",
   "execution_count": null,
   "metadata": {},
   "outputs": [],
   "source": [
    "mdl = 'rose03'\n",
    "df_rose03 = tb_cloud_rte(z, p, t, rh, denliq, denice, cldh, frq, ang, absmdl=mdl, ray_tracing=True, from_sat=True)\n",
    "df_rose03 = df_rose03.set_index(frq)"
   ]
  },
  {
   "cell_type": "code",
   "execution_count": null,
   "metadata": {},
   "outputs": [],
   "source": [
    "df['rose03'] = df_rose03.tbtotal"
   ]
  },
  {
   "cell_type": "code",
   "execution_count": null,
   "metadata": {},
   "outputs": [],
   "source": [
    "df"
   ]
  },
  {
   "source": [
    "## rose16 vs rose03"
   ],
   "cell_type": "markdown",
   "metadata": {}
  },
  {
   "cell_type": "code",
   "execution_count": null,
   "metadata": {},
   "outputs": [],
   "source": [
    "df.plot(kind='scatter', x='tbtotal', y='rose03')"
   ]
  },
  {
   "source": [
    "# Performing calculation from ground"
   ],
   "cell_type": "markdown",
   "metadata": {}
  },
  {
   "cell_type": "code",
   "execution_count": null,
   "metadata": {},
   "outputs": [],
   "source": [
    "fig, ax = plt.subplots(1, 1, figsize=(12,8))\n",
    "ax.set_xlabel('Frequency (GHz)')\n",
    "ax.set_ylabel('BT (K)')\n",
    "df = tb_cloud_rte(z, p, t, rh, denliq, denice, cldh, frq, ang, absmdl=mdl, ray_tracing=True, from_sat=False)\n",
    "df = df.set_index(frq)\n",
    "df.tbtotal.plot(ax=ax, linewidth=1, label='{} - {}'.format(atm[atmp.TROPICAL], mdl))\n",
    "plt.show()"
   ]
  }
 ]
}